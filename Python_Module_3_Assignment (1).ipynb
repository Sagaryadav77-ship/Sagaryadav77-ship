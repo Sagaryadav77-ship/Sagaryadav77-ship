{
  "nbformat": 4,
  "nbformat_minor": 0,
  "metadata": {
    "colab": {
      "provenance": []
    },
    "kernelspec": {
      "name": "python3",
      "display_name": "Python 3"
    },
    "language_info": {
      "name": "python"
    }
  },
  "cells": [
    {
      "cell_type": "markdown",
      "source": [
        "**Q1. Explain the key features of Python that make it a popular choice for programming.**\n",
        "\n",
        "**Answer:**\n",
        "*   Python is an object oriented, high level, general purpose programming language.\n",
        "*   It's easy to use and understand, readability and simplicity makes it popular and vivid amongst programmers.\n",
        "*   It uses interpreter which converts high level language into machine language line by line and execute it immediately letting the programmer know  the errors\n",
        "*   Comes with an extensive standard library, providing pre-built functionalities, which saves time and effort of programmer.\n",
        "*   *Paradigms* Python supports multiple programming, as it is a multi-paradigm language, suppoting both oops and functional programming.\n",
        "*   It excels in scripting and automating repetitive tasks.\n",
        "\n",
        "\n",
        "\n",
        "\n",
        "**Q2. Describe the role of predefined keywords in Python and provide examples of how they are used in a\n",
        "program.**\n",
        "\n",
        "**Answer:**  Predefined keywords are the words which are already defined which are identifiers that have special meanings and purpose within the programming language. They are written in lowercase except 'True' and 'Fale'. There are 35 keywords in Python.Some examples are 'int()', 'float()','upper()', 'lower()', 'replace()' etc In the below mentioned syntax there are a few predefined  kewords are used:\n",
        "\n",
        "\n",
        "\n",
        "\n",
        "\n",
        "\n"
      ],
      "metadata": {
        "id": "MglRjbzRZrW3"
      }
    },
    {
      "cell_type": "code",
      "source": [
        "a = 5.7\n",
        "print(a)\n",
        "\n",
        "a = int(a)\n",
        "type(a)\n",
        "print(a)\n",
        "\n",
        "a = float(a)\n",
        "type(a)\n",
        "print(a)"
      ],
      "metadata": {
        "colab": {
          "base_uri": "https://localhost:8080/"
        },
        "id": "59HBruoSsBRF",
        "outputId": "5f4a0b23-1252-4f47-eb02-309a14ccd696"
      },
      "execution_count": null,
      "outputs": [
        {
          "output_type": "stream",
          "name": "stdout",
          "text": [
            "5.7\n",
            "5\n",
            "5.0\n"
          ]
        }
      ]
    },
    {
      "cell_type": "markdown",
      "source": [
        "**Q3. Compare and contrast mutable and immutable objects in Python with examples.**\n",
        "\n",
        "**Answer:**\n",
        "**Mutable Objects**\n",
        "*   The objects can be modified after the creation as well.\n",
        "*   Classes that are mutable are not considered final.\n",
        "*   Classes are not made final for the mutable objects.\n",
        "*   They are thread unsafe.\n",
        "*   Some examples are:  Lists, Dicts, Sets, User-Defined Classes, Dictionaries, etc.\n",
        "\n",
        "**Immutable Objects**\n",
        "*   Objects can not be modified after the creation of the objects.\n",
        "* Classes that are immutable are considered final.  \n",
        "*  Classes are made final for the immutable objects.\n",
        "*   They are Thread-safe.\n",
        "*   Some examples are:  int, float, bool, string, Unicode, tuple, Numbers, etc.\n",
        "\n",
        "**Q4. Discuss the different types of operators in Python and provide examples of how they are used.**\n",
        "\n",
        "**Answer:** Python supports various types of operators as mentioned below:\n",
        "*   **Arithmetic Operators:**\n",
        "Mathematical operations including addition, subtraction, multiplication, and division are commonly carried out using Python arithmetic operators.\n",
        "They are compatible with integers, variables, and expressions.\n",
        "In addition to the standard arithmetic operators, there are operators for modulus, exponentiation, and floor division.\n",
        "\n",
        "*   **Comparison (Relational) Operators:**\n",
        "To compare two values, Python comparison operators are needed.\n",
        "Based on the comparison, they produce a Boolean value (True or False).\n",
        "\n",
        "*   **Assignment Operators:**\n",
        "Python assignment operators are used to assign values to variables in Python.\n",
        "The single equal symbol (=) is the most fundamental assignment operator.\n",
        "It assigns the value on the operator's right side to the variable on the operator's left side.\n",
        "\n",
        "*   **Logical Operators:**\n",
        "Python bitwise operators execute operations on individual bits of binary integers.\n",
        "They work with integer binary representations, performing logical operations on each bit location.\n",
        "Python includes various bitwise operators, such as AND (&), OR (|), NOT (), XOR (), left shift (), and right shift (>>).\n",
        "\n",
        "*   **Bitwise Operators:**\n",
        "Python logical operators are used to compose Boolean expressions and evaluate their truth values.\n",
        "They are required for the creation of conditional statements as well as for managing the flow of execution in programs.\n",
        "Python has three basic logical operators: AND, OR, and NOT.\n",
        "\n",
        "*   **Membership Operators:**\n",
        "Python membership operators are used to determine whether or not a certain value occurs within a sequence.\n",
        "They make it simple to determine the membership of elements in various Python data structures such as lists, tuples, sets, and strings.\n",
        "Python has two primary membership operators: the in and not in operators.\n",
        "\n",
        "*   **Identity Operators:**\n",
        "Python identity operators are used to compare two objects' memory addresses rather than their values.\n",
        "If the two objects refer to the same memory address, they evaluate to True; otherwise, they evaluate to False.\n",
        "Python includes two identity operators: the 'is' and 'is not' operators.\n",
        "\n",
        "\n",
        "\n",
        "\n",
        "\n",
        "\n",
        "\n",
        "\n",
        "\n",
        "\n"
      ],
      "metadata": {
        "id": "T0Lh-MuktUQw"
      }
    },
    {
      "cell_type": "code",
      "source": [
        "a = 21\n",
        "b = 10\n",
        "# Addition\n",
        "print (\"a + b : \", a + b)\n",
        "# Subtraction\n",
        "print (\"a - b : \", a - b)\n",
        "# Multiplication\n",
        "print (\"a * b : \", a * b)\n",
        "# Division\n",
        "print (\"a / b : \", a / b)\n",
        "# Modulus\n",
        "print (\"a % b : \", a % b)\n",
        "# Exponent\n",
        "print (\"a ** b : \", a ** b)\n",
        "# Floor Division\n",
        "print (\"a // b : \", a // b)"
      ],
      "metadata": {
        "colab": {
          "base_uri": "https://localhost:8080/"
        },
        "id": "F1jQJYTOE4TI",
        "outputId": "ac094274-68ce-48d3-b648-ab8adf699c11"
      },
      "execution_count": null,
      "outputs": [
        {
          "output_type": "stream",
          "name": "stdout",
          "text": [
            "a + b :  31\n",
            "a - b :  11\n",
            "a * b :  210\n",
            "a / b :  2.1\n",
            "a % b :  1\n",
            "a ** b :  16679880978201\n",
            "a // b :  2\n"
          ]
        }
      ]
    },
    {
      "cell_type": "code",
      "source": [
        "a = 4\n",
        "b = 5\n",
        "# Equal\n",
        "print (\"a == b : \", a == b)\n",
        "# Not Equal\n",
        "print (\"a != b : \", a != b)\n",
        "# Greater Than\n",
        "print (\"a > b : \", a > b)\n",
        "# Less Than\n",
        "print (\"a < b : \", a < b)\n",
        "# Greater Than or Equal to\n",
        "print (\"a >= b : \", a >= b)\n",
        "# Less Than or Equal to\n",
        "print (\"a <= b : \", a <= b)"
      ],
      "metadata": {
        "colab": {
          "base_uri": "https://localhost:8080/"
        },
        "id": "dBq4MNLPFF03",
        "outputId": "cb40c98e-a7b6-463b-c022-a7dcaa0e4bd5"
      },
      "execution_count": null,
      "outputs": [
        {
          "output_type": "stream",
          "name": "stdout",
          "text": [
            "a == b :  False\n",
            "a != b :  True\n",
            "a > b :  False\n",
            "a < b :  True\n",
            "a >= b :  False\n",
            "a <= b :  True\n"
          ]
        }
      ]
    },
    {
      "cell_type": "code",
      "source": [
        "# Assignment Operator\n",
        "a = 10\n",
        "# Addition Assignment\n",
        "a += 5\n",
        "print (\"a += 5 : \", a)\n",
        "# Subtraction Assignment\n",
        "a -= 5\n",
        "print (\"a -= 5 : \", a)\n",
        "# Multiplication Assignment\n",
        "a *= 5\n",
        "print (\"a *= 5 : \", a)\n",
        "# Division Assignment\n",
        "a /= 5\n",
        "print (\"a /= 5 : \",a)\n",
        "# Remainder Assignment\n",
        "a %= 3\n",
        "print (\"a %= 3 : \", a)\n",
        "# Exponent Assignment\n",
        "a **= 2\n",
        "print (\"a **= 2 : \", a)\n",
        "# Floor Division Assignment\n",
        "a //= 3\n",
        "print (\"a //= 3 : \", a)"
      ],
      "metadata": {
        "colab": {
          "base_uri": "https://localhost:8080/"
        },
        "id": "hHQZ2QYdFJKW",
        "outputId": "fd91a81c-e640-47d8-8640-11a50962d72a"
      },
      "execution_count": null,
      "outputs": [
        {
          "output_type": "stream",
          "name": "stdout",
          "text": [
            "a += 5 :  15\n",
            "a -= 5 :  10\n",
            "a *= 5 :  50\n",
            "a /= 5 :  10.0\n",
            "a %= 3 :  1.0\n",
            "a **= 2 :  1.0\n",
            "a //= 3 :  0.0\n"
          ]
        }
      ]
    },
    {
      "cell_type": "code",
      "source": [
        "a = 60 # 60 = 0011 1100\n",
        "b = 13 # 13 = 0000 1101\n",
        "# Binary AND\n",
        "c = a & b # 12 = 0000 1100\n",
        "print (\"a & b : \", c)\n",
        "# Binary OR\n",
        "c = a | b # 61 = 0011 1101\n",
        "print (\"a | b : \", c)\n",
        "# Binary XOR\n",
        "c = a ^ b # 49 = 0011 0001\n",
        "print (\"a ^ b : \", c)\n",
        "# Binary Ones Complement\n",
        "c = ~a; # -61 = 1100 0011\n",
        "print (\"~a : \", c)\n",
        "# Binary Left Shift\n",
        "c = a << 2; # 240 = 1111 0000\n",
        "print (\"a << 2 : \", c)\n",
        "# Binary Right Shift\n",
        "c = a >> 2; # 15 = 0000 1111\n",
        "print (\"a >> 2 : \", c)"
      ],
      "metadata": {
        "colab": {
          "base_uri": "https://localhost:8080/"
        },
        "id": "M0xacTznFPlN",
        "outputId": "2c1d595c-6ad8-4662-d72c-97bd49c23de6"
      },
      "execution_count": null,
      "outputs": [
        {
          "output_type": "stream",
          "name": "stdout",
          "text": [
            "a & b :  12\n",
            "a | b :  61\n",
            "a ^ b :  49\n",
            "~a :  -61\n",
            "a << 2 :  240\n",
            "a >> 2 :  15\n"
          ]
        }
      ]
    },
    {
      "cell_type": "code",
      "source": [
        "x = 5\n",
        "y = 10\n",
        "if x > 3 and y < 15:\n",
        "  print(\"Both x and y are within the specified range\")"
      ],
      "metadata": {
        "colab": {
          "base_uri": "https://localhost:8080/"
        },
        "id": "z7LZ1ZWxGNsU",
        "outputId": "88857522-51d3-4170-bb82-d7fe22b54402"
      },
      "execution_count": null,
      "outputs": [
        {
          "output_type": "stream",
          "name": "stdout",
          "text": [
            "Both x and y are within the specified range\n"
          ]
        }
      ]
    },
    {
      "cell_type": "code",
      "source": [
        "fruits = [\"apple\", \"banana\", \"cherry\"]\n",
        "if \"banana\" in fruits:\n",
        "    print(\"Yes, banana is a fruit!\")\n",
        "else:\n",
        "    print(\"No, banana is not a fruit!\")"
      ],
      "metadata": {
        "colab": {
          "base_uri": "https://localhost:8080/"
        },
        "id": "yFaeuHJbGTL4",
        "outputId": "5ee41d3b-4538-4f09-ecb6-d6e754a13cd9"
      },
      "execution_count": null,
      "outputs": [
        {
          "output_type": "stream",
          "name": "stdout",
          "text": [
            "Yes, banana is a fruit!\n"
          ]
        }
      ]
    },
    {
      "cell_type": "code",
      "source": [
        "x = 10\n",
        "y = 5\n",
        "if x is y:\n",
        "    print(\"x and y are the same object\")\n",
        "else:\n",
        "    print(\"x and y are not the same object\")"
      ],
      "metadata": {
        "colab": {
          "base_uri": "https://localhost:8080/"
        },
        "id": "_L_RPkZEGZHD",
        "outputId": "a3a5859d-7029-4ecf-84d9-b411080bb4e4"
      },
      "execution_count": null,
      "outputs": [
        {
          "output_type": "stream",
          "name": "stdout",
          "text": [
            "x and y are not the same object\n"
          ]
        }
      ]
    },
    {
      "cell_type": "markdown",
      "source": [
        "**Q5. Explain the concept of type casting in Python with examples.**\n",
        "\n",
        "**Answer:** Type Casting is a mechanism to convert one data type value to another one. Type conversion is possible if both the data types are compatible to each other; otherwise, you will get an InvalidCastException. Types of type casting are:\n",
        "\n",
        "*   **Implicit conversion:** The data types in Python have an order in which they are handled. When working with variables of different data types, the Python interpreter automatically converts all data types into higher-order data types. This is known as implicit type conversion. This is done to prevent data loss.\n",
        "\n",
        "*   **Explicit Conversion:** In explicit type conversion, Python needs user intervention to convert variable data type into the required data type for performing a certain operation. This type casting in Python is mainly performed on the following data types:\n",
        "int(): takes a float or string object as an argument and returns an integer-type object.\n",
        "float(): takes int or string object as an argument and returns a float-type object.\n",
        "str(): takes float or int object as an argument and returns a string-type object.\n",
        "\n",
        "\n",
        "\n",
        "\n"
      ],
      "metadata": {
        "id": "ilt0UjI6HF4O"
      }
    },
    {
      "cell_type": "code",
      "source": [
        "#Implicit Type Casting\n",
        "#Python automatically converts var to integer type\n",
        "a = 27\n",
        "print('data type of a: ', type(a))\n",
        "\n",
        "#Python automatically converts b to float type\n",
        "b = 3.14\n",
        "print('data type of b: ', type(b))\n",
        "\n",
        "#Python automatically converts c to string type\n",
        "c = '3.14'\n",
        "print('data type of c: ', type(c))\n",
        "\n",
        "#Python automatically converts d to float as it is a float addition\n",
        "d = a + b\n",
        "print('value of d: ', d)\n",
        "print('data type of d: ', type(d))\n",
        "\n",
        "#Python automatically converts e to float as it is a float multiplication\n",
        "e = a * b\n",
        "print('value of e: ', e)\n",
        "print('data type of e: ', type(e))"
      ],
      "metadata": {
        "colab": {
          "base_uri": "https://localhost:8080/"
        },
        "id": "bbm3b-S4Oqfz",
        "outputId": "82dfb62c-d5ca-4d85-a479-f3c08012958e"
      },
      "execution_count": null,
      "outputs": [
        {
          "output_type": "stream",
          "name": "stdout",
          "text": [
            "data type of a:  <class 'int'>\n",
            "data type of b:  <class 'float'>\n",
            "data type of c:  <class 'str'>\n",
            "value of d:  30.14\n",
            "data type of d:  <class 'float'>\n",
            "value of e:  84.78\n",
            "data type of e:  <class 'float'>\n"
          ]
        }
      ]
    },
    {
      "cell_type": "code",
      "source": [
        "#Explicit Type Casting\n",
        "string = \"11110\"\n",
        "\n",
        "#Converting the string into integer\n",
        "num = int(string,2)\n",
        "print(\"The string converted into integer base-2: \", num)"
      ],
      "metadata": {
        "colab": {
          "base_uri": "https://localhost:8080/"
        },
        "id": "EpbLdJQNPm47",
        "outputId": "01761491-f7b3-40c3-a32c-31331153a333"
      },
      "execution_count": null,
      "outputs": [
        {
          "output_type": "stream",
          "name": "stdout",
          "text": [
            "The string converted into integer base-2:  30\n"
          ]
        }
      ]
    },
    {
      "cell_type": "code",
      "source": [
        "string = \"56\"\n",
        "num = 44\n",
        "#Converting string into integer\n",
        "str_num = int(string)\n",
        "sum = num + str_num\n",
        "print(\"Sum: \", sum)"
      ],
      "metadata": {
        "colab": {
          "base_uri": "https://localhost:8080/"
        },
        "id": "FpkOrg4gQnqz",
        "outputId": "8282a29d-2a47-4d07-93d2-1fbf43e123eb"
      },
      "execution_count": null,
      "outputs": [
        {
          "output_type": "stream",
          "name": "stdout",
          "text": [
            "Sum:  100\n"
          ]
        }
      ]
    },
    {
      "cell_type": "code",
      "source": [
        "#Explicit Type Casting\n",
        "num = 420\n",
        "string = str(num)\n",
        "print(\"The given number converted into string: \",string)\n",
        "type(string)"
      ],
      "metadata": {
        "colab": {
          "base_uri": "https://localhost:8080/"
        },
        "id": "zSvn3fgEQy67",
        "outputId": "1085805a-4b2e-4287-8d8b-3048911351a5"
      },
      "execution_count": null,
      "outputs": [
        {
          "output_type": "stream",
          "name": "stdout",
          "text": [
            "The given number converted into string:  420\n"
          ]
        },
        {
          "output_type": "execute_result",
          "data": {
            "text/plain": [
              "str"
            ]
          },
          "metadata": {},
          "execution_count": 19
        }
      ]
    },
    {
      "cell_type": "markdown",
      "source": [
        "**Q6. How do conditional statements work in Python? Illustrate with examples.**\n",
        "\n",
        "**Answer:** Conditional statements allow you to make decisions in your code, which can make your code more efficient and easier to read. For example, if you want to print a message only if a certain condition is met, you can use a conditional statement. It supports the usual logical conditions from mathematics asmentioned  below:\n",
        "Equals: a == b\n",
        "Not Equals: a != b\n",
        "Less than: a < b\n",
        "Less than or equal to: a <= b\n",
        "Greater than: a > b\n",
        "Greater than or equal to: a >= b\n",
        "These conditions can be used in several ways, most commonly in \"if statements\" and loops.An \"if statement\" is written by using the if keyword.\n"
      ],
      "metadata": {
        "id": "lhAfIekxQ7fH"
      }
    },
    {
      "cell_type": "code",
      "source": [
        "#if\n",
        "a = 33\n",
        "b = 200\n",
        "if b > a:\n",
        "  print(\"b is greater than a\")"
      ],
      "metadata": {
        "colab": {
          "base_uri": "https://localhost:8080/"
        },
        "id": "6W80FWkVWR4k",
        "outputId": "37999d74-46ce-4585-94de-923646e10e51"
      },
      "execution_count": null,
      "outputs": [
        {
          "output_type": "stream",
          "name": "stdout",
          "text": [
            "b is greater than a\n"
          ]
        }
      ]
    },
    {
      "cell_type": "code",
      "source": [
        "#elif\n",
        "a = 33\n",
        "b = 33\n",
        "if b > a:\n",
        "  print(\"b is greater than a\")\n",
        "elif a == b:\n",
        "  print(\"a and b are equal\")"
      ],
      "metadata": {
        "colab": {
          "base_uri": "https://localhost:8080/"
        },
        "id": "yexdzflIWUYX",
        "outputId": "085c3c41-e37c-4a07-b57f-652cfe0f9e9f"
      },
      "execution_count": null,
      "outputs": [
        {
          "output_type": "stream",
          "name": "stdout",
          "text": [
            "a and b are equal\n"
          ]
        }
      ]
    },
    {
      "cell_type": "code",
      "source": [
        "#else\n",
        "a = 200\n",
        "b = 33\n",
        "if b > a:\n",
        "  print(\"b is greater than a\")\n",
        "elif a == b:\n",
        "  print(\"a and b are equal\")\n",
        "else:\n",
        "  print(\"a is greater than b\")"
      ],
      "metadata": {
        "colab": {
          "base_uri": "https://localhost:8080/"
        },
        "id": "B17KGKoHWt_C",
        "outputId": "2c556f4f-876d-4aa6-890e-9b0aac4992a4"
      },
      "execution_count": null,
      "outputs": [
        {
          "output_type": "stream",
          "name": "stdout",
          "text": [
            "a is greater than b\n"
          ]
        }
      ]
    },
    {
      "cell_type": "code",
      "source": [
        "#Short Hand If\n",
        "if a > b: print(\"a is greater than b\")\n"
      ],
      "metadata": {
        "colab": {
          "base_uri": "https://localhost:8080/"
        },
        "id": "FSziwzx8W0L9",
        "outputId": "ac9096fd-ea79-42d9-b3ef-df0954dcc912"
      },
      "execution_count": null,
      "outputs": [
        {
          "output_type": "stream",
          "name": "stdout",
          "text": [
            "a is greater than b\n"
          ]
        }
      ]
    },
    {
      "cell_type": "code",
      "source": [
        "#Short Hand If ... Else\n",
        "a = 2\n",
        "b = 330\n",
        "print(\"A\") if a > b else print(\"B\")"
      ],
      "metadata": {
        "colab": {
          "base_uri": "https://localhost:8080/"
        },
        "id": "fLxvvq61XCIa",
        "outputId": "1338d960-81da-49ad-cd62-79cb7d2502a1"
      },
      "execution_count": null,
      "outputs": [
        {
          "output_type": "stream",
          "name": "stdout",
          "text": [
            "B\n"
          ]
        }
      ]
    },
    {
      "cell_type": "markdown",
      "source": [
        "**Q7. Describe the different types of loops in Python and their use cases with examples.**\n",
        "\n",
        "**Answer:** A loop is a control flow statement in Python that allows you to execute a piece of code repeatedly until a specific condition is met. Loops are necessary for operations that require repetitive execution, such as iterating through a Python list of items or doing calculations many times.Different Types of Loops in Python are:\n",
        "\n",
        "*   **Python while loop:**\n",
        "In Python, a while loop is a control flow statement that allows you to execute a block of code repeatedly while a given condition is true.The condition is evaluated at the start of each loop iteration, and if it is true, the loop body is executed.A while loop is a control flow statement that allows you to repeatedly run a block of code as long as a given condition is true.The loop is terminated if the condition is false.\n",
        "\n",
        "*   **Python for loop:**\n",
        "A for loop is a control flow statement in Python that allows you to iterate over a sequence of elements such as a list, tuple, or string.On each iteration, the loop variable in Python will take on the value of the next item in the sequence.\n",
        "\n",
        "*   **Python Nested loop:**\n",
        "In Python, a nested loop is a loop that is contained within another loop.This indicates that the inner loop is executed within each outer loop iteration.Nested loops are handy for iterating over a two-dimensional array or processing hierarchical data.\n",
        "\n",
        "\n"
      ],
      "metadata": {
        "id": "fpceA_9nXqH7"
      }
    },
    {
      "cell_type": "code",
      "source": [
        "# Python While loop\n",
        "\n",
        "count = 0\n",
        "while (count < 10):\n",
        " print ('The count is:', count)\n",
        " count = count + 1\n",
        "print (\"Good bye!\")"
      ],
      "metadata": {
        "colab": {
          "base_uri": "https://localhost:8080/"
        },
        "id": "RF2DeSO6aDVj",
        "outputId": "a690ecbd-e3a5-4544-e5fa-41161408bbe3"
      },
      "execution_count": null,
      "outputs": [
        {
          "output_type": "stream",
          "name": "stdout",
          "text": [
            "The count is: 0\n",
            "The count is: 1\n",
            "The count is: 2\n",
            "The count is: 3\n",
            "The count is: 4\n",
            "The count is: 5\n",
            "The count is: 6\n",
            "The count is: 7\n",
            "The count is: 8\n",
            "The count is: 9\n",
            "Good bye!\n"
          ]
        }
      ]
    },
    {
      "cell_type": "code",
      "source": [
        "# Python for loop\n",
        "\n",
        "for letter in 'Python': # First Example\n",
        " print ('Current Letter :', letter)\n",
        "fruits = ['guava', 'apple', 'mango']\n",
        "for fruit in fruits: # Second Example\n",
        " print ('Current fruit :', fruit)\n",
        "print (\"Good bye!\")"
      ],
      "metadata": {
        "colab": {
          "base_uri": "https://localhost:8080/"
        },
        "id": "M67YVavMZuW_",
        "outputId": "1c14f62e-18d2-4124-d892-48fe6477a5f2"
      },
      "execution_count": null,
      "outputs": [
        {
          "output_type": "stream",
          "name": "stdout",
          "text": [
            "Current Letter : P\n",
            "Current Letter : y\n",
            "Current Letter : t\n",
            "Current Letter : h\n",
            "Current Letter : o\n",
            "Current Letter : n\n",
            "Current fruit : guava\n",
            "Current fruit : apple\n",
            "Current fruit : mango\n",
            "Good bye!\n"
          ]
        }
      ]
    },
    {
      "cell_type": "code",
      "source": [
        "#Python Nested loop\n",
        "\n",
        "i = 2\n",
        "while(i < 100):\n",
        " j = 2\n",
        " while(j <= (i/j)):\n",
        "   if not(i%j): break\n",
        "   j = j + 1\n",
        " if (j > i/j) : print (i, \" is prime\")\n",
        " i = i + 1\n",
        "print (\"Good bye!\")"
      ],
      "metadata": {
        "colab": {
          "base_uri": "https://localhost:8080/"
        },
        "id": "Q-klkrHfaK6j",
        "outputId": "7da98578-0457-4457-f992-71eeb1e9a79c"
      },
      "execution_count": null,
      "outputs": [
        {
          "output_type": "stream",
          "name": "stdout",
          "text": [
            "2  is prime\n",
            "3  is prime\n",
            "5  is prime\n",
            "7  is prime\n",
            "11  is prime\n",
            "13  is prime\n",
            "17  is prime\n",
            "19  is prime\n",
            "23  is prime\n",
            "29  is prime\n",
            "31  is prime\n",
            "37  is prime\n",
            "41  is prime\n",
            "43  is prime\n",
            "47  is prime\n",
            "53  is prime\n",
            "59  is prime\n",
            "61  is prime\n",
            "67  is prime\n",
            "71  is prime\n",
            "73  is prime\n",
            "79  is prime\n",
            "83  is prime\n",
            "89  is prime\n",
            "97  is prime\n",
            "Good bye!\n"
          ]
        }
      ]
    }
  ]
}